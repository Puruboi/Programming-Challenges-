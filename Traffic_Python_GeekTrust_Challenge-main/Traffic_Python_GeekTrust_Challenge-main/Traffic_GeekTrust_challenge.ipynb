{
  "nbformat": 4,
  "nbformat_minor": 0,
  "metadata": {
    "colab": {
      "name": "Traffic_GeekTrust_challenge",
      "provenance": [],
      "collapsed_sections": [],
      "authorship_tag": "ABX9TyPyHl7j/V8pCGdOglmYfgoA",
      "include_colab_link": true
    },
    "kernelspec": {
      "name": "python3",
      "display_name": "Python 3"
    },
    "language_info": {
      "name": "python"
    }
  },
  "cells": [
    {
      "cell_type": "markdown",
      "metadata": {
        "id": "view-in-github",
        "colab_type": "text"
      },
      "source": [
        "<a href=\"https://colab.research.google.com/github/Puruboi/Project-2-Traffic_Python/blob/main/Traffic_GeekTrust_challenge.ipynb\" target=\"_parent\"><img src=\"https://colab.research.google.com/assets/colab-badge.svg\" alt=\"Open In Colab\"/></a>"
      ]
    },
    {
      "cell_type": "code",
      "metadata": {
        "id": "WlLVc0h2YYUN"
      },
      "source": [
        "# -*- coding: utf-8 -*-\n",
        "\"\"\"Traffic_GeekTrust_challenge.py\n",
        "\"\"\"\n",
        "class Traffic:\n",
        "    \n",
        "    def __init__(self):\n",
        "        self.main()\n",
        "        \n",
        "    #Getter Function to get Input\n",
        "    def getter(self,input_file):\n",
        "        fo=open(input_file,'r')\n",
        "        i=fo.read()\n",
        "        i=i.split(\" \")\n",
        "        w=str(i[0])\n",
        "        o_1=int(i[1])\n",
        "        o_2=int(i[2])\n",
        "        return w,o_1,o_2\n",
        "    #or \n",
        "    def getter_1(self):\n",
        "      i=input(\"Enter the input in this format (Weather orbit1_speed orbit2_speed: \")\n",
        "      i=i.split(\" \")\n",
        "      w=str(i[0])\n",
        "      o_1=int(i[1])\n",
        "      o_2=int(i[2])\n",
        "      return w,o_1,o_2\n",
        "    \n",
        "    #Function For Sunny Weather\n",
        "    \n",
        "    def sunny(self,b,c):\n",
        "        o1=[18,20]\n",
        "        o2=[20,10]\n",
        "        bi=[10,2]\n",
        "        tu=[12,1]\n",
        "        ca=[20,3]\n",
        "        o1[1],o2[1]=int(o1[1]-(o1[1]*(10/100))),int(o2[1]-(o2[1]*(10/100)))\n",
        "        \n",
        "        def bike(b,c,o1,o2,bi):\n",
        "            if b<bi[0]:\n",
        "                x=b\n",
        "                to1=(((60*o1[0])/x)+(o1[1]*bi[1]))\n",
        "                \n",
        "            else:\n",
        "                to1=(((60*o1[0])/bi[0])+(o1[1]*bi[1]))\n",
        "            if c<bi[0]:\n",
        "                 y=c\n",
        "                 to2=((60*o2[0])/y)+(o2[1]*bi[1])\n",
        "            else:\n",
        "                to2=((60*o2[0])/bi[0])+(o2[1]*bi[1])\n",
        "            \n",
        "            if to1<to2:\n",
        "                return ('o1 {}'.format(to1))\n",
        "            else:\n",
        "                return ('o2 {}'.format(to2))\n",
        "        \n",
        "        def tuktuk(b,c,o1,o2,tu):\n",
        "            if b<tu[0]:\n",
        "                x=b\n",
        "                to1=((60*o1[0])/x)+(o1[1]*tu[1])\n",
        "            else:\n",
        "                to1=((60*o1[0])/tu[0])+(o1[1]*tu[1])\n",
        "            if c<tu[0]:\n",
        "                 y=c\n",
        "                 to2=((60*o2[0])/y)+(o2[1]*tu[1])\n",
        "            else:\n",
        "                to2=((60*o2[0])/tu[0])+(o2[1]*tu[1])\n",
        "            \n",
        "            if to1<to2:\n",
        "                return ('o1 {}'.format(to1))\n",
        "            else:\n",
        "                return ('o2 {}'.format(to2))\n",
        "        def car(b,c,o1,o2,ca):\n",
        "            if b<ca[0]:\n",
        "                x=b\n",
        "                to1=((60*o1[0])/x)+(o1[1]*ca[1])\n",
        "            else:\n",
        "                to1=((60*o1[0])/ca[0])+(o1[1]*ca[1])\n",
        "            if c<ca[0]:\n",
        "                 y=c\n",
        "                 to2=((60*o2[0])/y)+(o2[1]*ca[1])\n",
        "            else:\n",
        "                to2=((60*o2[0])/ca[0])+(o2[1]*ca[1])\n",
        "                \n",
        "            if to1<to2:\n",
        "                return ('o1 {}'.format(to1))\n",
        "            else:\n",
        "                return ('o2 {}'.format(to2))\n",
        "            \n",
        "        s=bike(b,c,o1,o2,bi)\n",
        "        r=tuktuk(b,c,o1,o2,tu)\n",
        "        t=car(b,c,o1,o2,ca)\n",
        "        \n",
        "        \n",
        "        \n",
        "        s=s.split()\n",
        "        r=r.split()\n",
        "        t=t.split()\n",
        "        \n",
        "        def less(s,r,t):\n",
        "            if(float(s[1])<=float(r[1]) and float(s[1])<=float(t[1])):\n",
        "                if s[0]=='o1':\n",
        "                    print('Bike Orbit1')\n",
        "                else:\n",
        "                    print('Bike Orbit2')\n",
        "            elif(float(r[1])<=float(s[1]) and float(r[1])<=float(t[1])):\n",
        "                if r[0]=='o1':\n",
        "                    print('Tuktuk Orbit1')\n",
        "                else:\n",
        "                    print('Tuktuk Orbit2')\n",
        "                    \n",
        "            elif(float(t[1])<=float(s[1]) and float(t[1])<=float(r[1])):\n",
        "                if t[0]=='o1':\n",
        "                    print('Car Orbit1')\n",
        "                else:\n",
        "                    print('Car Orbit2')\n",
        "            \n",
        "                \n",
        "        less(s, r, t)\n",
        "    \n",
        "    #Function For Rainy Weather\n",
        "    \n",
        "    def rainy(self,b,c):\n",
        "        o1=[18,20]\n",
        "        o2=[20,10]\n",
        "        tu=[12,1]\n",
        "        ca=[20,3]\n",
        "        o1[1],o2[1]=int(o1[1]+(o1[1]*0.2)),int(o2[1]+(o2[1]*0.2))\n",
        "    \n",
        "        def tuktuk(b,c,o1,o2,tu):\n",
        "            if b<tu[0]:\n",
        "                x=b\n",
        "                to1=((60*o1[0])/x)+(o1[1]*tu[1])\n",
        "            else:\n",
        "                to1=((60*o1[0])/tu[0])+(o1[1]*tu[1])\n",
        "            if c<tu[0]:\n",
        "                 y=c\n",
        "                 to2=((60*o2[0])/y)+(o2[1]*tu[1])\n",
        "            else:\n",
        "                to2=((60*o2[0])/tu[0])+(o2[1]*tu[1])\n",
        "            \n",
        "    \n",
        "            if to1<to2:\n",
        "                return ('o1 {}'.format(to1))\n",
        "            else:\n",
        "                return ('o2 {}'.format(to2))\n",
        "        def car(b,c,o1,o2,ca):\n",
        "            if b<ca[0]:\n",
        "                x=b\n",
        "                to1=((60*o1[0])/x)+(o1[1]*ca[1])\n",
        "            else:\n",
        "                to1=((60*o1[0])/ca[0])+(o1[1]*ca[1])\n",
        "            if c<ca[0]:\n",
        "                 y=c\n",
        "                 to2=((60*o2[0])/y)+(o2[1]*ca[1])\n",
        "            else:\n",
        "                to2=((60*o2[0])/ca[0])+(o2[1]*ca[1])\n",
        "            \n",
        "            if to1<to2:\n",
        "                return ('o1 {}'.format(to1))\n",
        "            else:\n",
        "                return ('o2 {}'.format(to2))\n",
        "            \n",
        "        r=tuktuk(b,c,o1,o2,tu)\n",
        "        t=car(b,c,o1,o2,ca)\n",
        "        \n",
        "        \n",
        "        r=r.split()\n",
        "        t=t.split()\n",
        "        \n",
        "        \n",
        "        \n",
        "        def less(r,t):\n",
        "            \n",
        "            if(float(r[1])<=float(t[1])):\n",
        "                if r[0]=='o1':\n",
        "                    print('Tuktuk Orbit1')\n",
        "                else:\n",
        "                    print('Tuktuk Orbit2')\n",
        "                    \n",
        "            elif(float(t[1])<float(r[1])):\n",
        "                if t[0]=='o1':\n",
        "                    print('Car Orbit1')\n",
        "                else:\n",
        "                    print('Car Orbit2')\n",
        "        less(r, t)\n",
        "    \n",
        "    #Function For Windy Weather\n",
        "    \n",
        "    def windy(self,b,c):\n",
        "        o1=[18,20]\n",
        "        o2=[20,10]\n",
        "        bi=[10,2]\n",
        "        tu=[12,1]\n",
        "        ca=[20,3]\n",
        "        \n",
        "        def bike(b,c,o1,o2,bi):\n",
        "            if b<bi[0]:\n",
        "                x=b\n",
        "                to1=((60*o1[0])/x)+(o1[1]*bi[1])\n",
        "            else:\n",
        "                to1=((60*o1[0])/bi[0])+(o1[1]*bi[1])\n",
        "            if c<bi[0]:\n",
        "                 y=c\n",
        "                 to2=((60*o2[0])/y)+(o2[1]*bi[1])\n",
        "            else:\n",
        "                to2=((60*o2[0])/bi[0])+(o2[1]*bi[1])\n",
        "            \n",
        "    \n",
        "            if to1<to2:\n",
        "                return ('o1 {}'.format(to1))\n",
        "            else:\n",
        "                return ('o2 {}'.format(to2))\n",
        "        \n",
        "        def tuktuk(b,c,o1,o2,tu):\n",
        "            if b<tu[0]:\n",
        "                x=b\n",
        "                to1=((60*o1[0])/x)+(o1[1]*tu[1])\n",
        "            to1=((60*o1[0])/tu[0])+(o1[1]*tu[1])\n",
        "            if c<tu[0]:\n",
        "                 y=c\n",
        "                 to2=((60*o2[0])/y)+(o2[1]*tu[1])\n",
        "            else:\n",
        "                to2=((60*o2[0])/tu[0])+(o2[1]*tu[1])\n",
        "            \n",
        "            \n",
        "            if to1<to2:\n",
        "                return ('o1 {}'.format(to1))\n",
        "            else:\n",
        "                return ('o2 {}'.format(to2))\n",
        "        def car(b,c,o1,o2,ca):\n",
        "            if b<ca[0]:\n",
        "                x=b\n",
        "                to1=((60*o1[0])/x)+(o1[1]*ca[1])\n",
        "            else:\n",
        "                to1=((60*o1[0])/ca[0])+(o1[1]*ca[1])\n",
        "            if c<ca[0]:\n",
        "                 y=c\n",
        "                 to2=((60*o2[0])/y)+(o2[1]*ca[1])\n",
        "            else:\n",
        "                to2=((60*o2[0])/ca[0])+(o2[1]*ca[1])\n",
        "            \n",
        "            if to1<to2:\n",
        "                return ('o1 {}'.format(to1))\n",
        "            else:\n",
        "                return ('o2 {}'.format(to2))\n",
        "            \n",
        "        s=bike(b,c,o1,o2,bi)\n",
        "        r=tuktuk(b,c,o1,o2,tu)\n",
        "        t=car(b,c,o1,o2,ca)\n",
        "        \n",
        "        s=s.split()\n",
        "        r=r.split()\n",
        "        t=t.split()\n",
        "        \n",
        "        def less(s,r,t):\n",
        "            if(float(s[1])<=float(r[1]) and float(s[1])<=float(t[1])):\n",
        "                if s[0]=='o1':\n",
        "                    print('Bike Orbit1')\n",
        "                else:\n",
        "                    print('Bike Orbit2')\n",
        "            elif(float(r[1])<=float(s[1]) and float(r[1])<=float(t[1])):\n",
        "                if r[0]=='o1':\n",
        "                    print('Tuktuk Orbit1')\n",
        "                else:\n",
        "                    print('Tuktuk Orbit2')\n",
        "                    \n",
        "            elif(float(t[1])<float(s[1]) and float(t[1])<float(r[1])):\n",
        "                if t[0]=='o1':\n",
        "                    print('Car Orbit1')\n",
        "                else:\n",
        "                    print('Car Orbit2')\n",
        "        less(s, r, t)\n",
        "    \n",
        "            #Calling functions in Main functions\n",
        "            \n",
        "            #input_file = path\n",
        "            #a,b,c=getter(input_file)\n",
        "    def main(self):\n",
        "      try:\n",
        "        a,b,c=self.getter_1()\n",
        "        if a=='sunny'or a=='Sunny':\n",
        "            self.sunny(b,c)\n",
        "        elif a=='rainy'or a=='Rainy':\n",
        "            self.rainy(b,c)\n",
        "        elif a=='windy'or a=='Windy':\n",
        "            self.windy(b,c)\n",
        "      except Exception as e:\n",
        "        print(e)"
      ],
      "execution_count": 1,
      "outputs": []
    },
    {
      "cell_type": "code",
      "metadata": {
        "colab": {
          "base_uri": "https://localhost:8080/"
        },
        "id": "ntmrqW8hYln7",
        "outputId": "a7efccb5-4a77-4594-d070-fc3af4a99097"
      },
      "source": [
        "# object creation \n",
        "            \n",
        "travel=Traffic()"
      ],
      "execution_count": 2,
      "outputs": [
        {
          "output_type": "stream",
          "text": [
            "Enter the input in this format (Weather orbit1_speed orbit2_speed: Rainy 12 8\n",
            "Tuktuk Orbit1\n"
          ],
          "name": "stdout"
        }
      ]
    },
    {
      "cell_type": "code",
      "metadata": {
        "colab": {
          "base_uri": "https://localhost:8080/"
        },
        "id": "8q8eTJtSZa4L",
        "outputId": "2c0f70f5-7f27-4760-a2b2-7c625a915039"
      },
      "source": [
        "travel2=Traffic()"
      ],
      "execution_count": null,
      "outputs": [
        {
          "output_type": "stream",
          "text": [
            "Enter the input in this format (Weather orbit1_speed orbit2_speed: Rainy 40 25\n",
            "Car Orbit2\n"
          ],
          "name": "stdout"
        }
      ]
    },
    {
      "cell_type": "code",
      "metadata": {
        "colab": {
          "base_uri": "https://localhost:8080/"
        },
        "id": "6-zmCctUZdct",
        "outputId": "ca6ac49d-19b7-46df-e2cd-6dbf9dff2411"
      },
      "source": [
        "travel3=Traffic()"
      ],
      "execution_count": null,
      "outputs": [
        {
          "output_type": "stream",
          "text": [
            "Enter the input in this format (Weather orbit1_speed orbit2_speed: Sunny 12 10\n",
            "Tuktuk Orbit1\n"
          ],
          "name": "stdout"
        }
      ]
    },
    {
      "cell_type": "code",
      "metadata": {
        "colab": {
          "base_uri": "https://localhost:8080/"
        },
        "id": "9mULEj1eZi2D",
        "outputId": "976070db-fce6-4dd4-cf13-8cb9c2450477"
      },
      "source": [
        "travel4=Traffic()"
      ],
      "execution_count": null,
      "outputs": [
        {
          "output_type": "stream",
          "text": [
            "Enter the input in this format (Weather orbit1_speed orbit2_speed: Windy 14 20\n",
            "Car Orbit2\n"
          ],
          "name": "stdout"
        }
      ]
    },
    {
      "cell_type": "code",
      "metadata": {
        "colab": {
          "base_uri": "https://localhost:8080/"
        },
        "id": "0QbZCBOUZtVo",
        "outputId": "e2efe755-972f-4946-b90e-728811a85523"
      },
      "source": [
        "travel5=Traffic()"
      ],
      "execution_count": null,
      "outputs": [
        {
          "output_type": "stream",
          "text": [
            "Enter the input in this format (Weather orbit1_speed orbit2_speed: Rainy 8 15\n",
            "Tuktuk Orbit2\n"
          ],
          "name": "stdout"
        }
      ]
    },
    {
      "cell_type": "code",
      "metadata": {
        "id": "KByHZMAmZ8XC",
        "colab": {
          "base_uri": "https://localhost:8080/"
        },
        "outputId": "ec488c10-a289-489e-8f63-569fd3c13e8f"
      },
      "source": [
        "travel5=Traffic()"
      ],
      "execution_count": null,
      "outputs": [
        {
          "output_type": "stream",
          "text": [
            "Enter the input in this format (Weather orbit1_speed orbit2_speed: Rainy 20 40\n",
            "Car Orbit2\n"
          ],
          "name": "stdout"
        }
      ]
    },
    {
      "cell_type": "code",
      "metadata": {
        "id": "FKodsRw_icio"
      },
      "source": [
        ""
      ],
      "execution_count": null,
      "outputs": []
    }
  ]
}